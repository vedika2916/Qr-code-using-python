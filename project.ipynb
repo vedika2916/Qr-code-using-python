{
 "cells": [
  {
   "cell_type": "code",
   "execution_count": 13,
   "id": "f2c752be",
   "metadata": {},
   "outputs": [
    {
     "data": {
      "image/png": "[encoded data removed]",
      "text/plain": [
       "<PIL.Image.Image image mode=1 size=335x335 at 0x1FFCABB2400>"
      ]
     },
     "execution_count": 13,
     "metadata": {},
     "output_type": "execute_result"
    }
   ],
   "source": [
    "import qrcode\n",
    "import image\n",
    "\n",
    "\n",
    "qr =qrcode.QRCode(\n",
    "    version=10,\n",
    "    box_size =5,\n",
    "    border =5,\n",
    ")\n",
    "data ='https://web.whatsapp.com/'\n",
    "\n",
    "qr.add_data(data)\n",
    "qr.make(fit =True)\n",
    "imag =qr.make_image(fill ='black',back_color ='white')\n",
    "imag.get_image()\n",
    "\n",
    "\n",
    "    "
   ]
  },
  {
   "cell_type": "code",
   "execution_count": 11,
   "id": "34958312",
   "metadata": {},
   "outputs": [
    {
     "data": {
      "image/png": "[encoded data removed]",
      "text/plain": [
       "<PIL.Image.Image image mode=1 size=335x335 at 0x1FFCB793E20>"
      ]
     },
     "execution_count": 11,
     "metadata": {},
     "output_type": "execute_result"
    }
   ],
   "source": [
    "import qrcode\n",
    "from PIL import Image\n",
    "\n",
    "qr = qrcode.QRCode(\n",
    "    version=10,\n",
    "    box_size=5,\n",
    "    border=5,\n",
    ")\n",
    "data = 'https://web.whatsapp.com/'\n",
    "\n",
    "qr.add_data(data)\n",
    "qr.make(fit=True)\n",
    "imag = qr.make_image(fill='black', back_color='white')\n",
    "imag.get_image()"
   ]
  },
  {
   "cell_type": "code",
   "execution_count": null,
   "id": "5a17a6f6",
   "metadata": {},
   "outputs": [],
   "source": []
  }
 ],
 "metadata": {
  "kernelspec": {
   "display_name": "Python 3 (ipykernel)",
   "language": "python",
   "name": "python3"
  },
  "language_info": {
   "codemirror_mode": {
    "name": "ipython",
    "version": 3
   },
   "file_extension": ".py",
   "mimetype": "text/x-python",
   "name": "python",
   "nbconvert_exporter": "python",
   "pygments_lexer": "ipython3",
   "version": "3.9.12"
  }
 },
 "nbformat": 4,
 "nbformat_minor": 5
}
